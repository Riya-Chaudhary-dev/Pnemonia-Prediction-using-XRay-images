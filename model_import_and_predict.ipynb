{
  "nbformat": 4,
  "nbformat_minor": 0,
  "metadata": {
    "colab": {
      "name": "model import and predict phenmonia.ipynb",
      "provenance": [],
      "collapsed_sections": []
    },
    "kernelspec": {
      "name": "python3",
      "display_name": "Python 3",
      "language": "python"
    }
  },
  "cells": [
    {
      "cell_type": "code",
      "metadata": {
        "id": "UCCiBJaSljRo"
      },
      "source": [
        "from keras.models import model_from_json\n",
        "\n",
        "# load json and create model\n",
        "json_file = open('model.json', 'r')\n",
        "loaded_model_json = json_file.read()\n",
        "json_file.close()\n",
        "loaded_model = model_from_json(loaded_model_json)\n",
        "# load weights into new model\n",
        "loaded_model.load_weights(\"model.h5\")"
      ],
      "execution_count": 6,
      "outputs": []
    },
    {
      "cell_type": "code",
      "metadata": {
        "colab": {
          "base_uri": "https://localhost:8080/"
        },
        "id": "aRkTAOMIlkvY",
        "outputId": "37f621e7-dd99-4265-e082-b870eaa96105"
      },
      "source": [
        "loaded_model.summary()"
      ],
      "execution_count": 7,
      "outputs": [
        {
          "output_type": "stream",
          "name": "stdout",
          "text": [
            "Model: \"sequential_3\"\n_________________________________________________________________\nLayer (type)                 Output Shape              Param #   \n=================================================================\nconv2d_9 (Conv2D)            (None, 150, 150, 64)      640       \n_________________________________________________________________\nmax_pooling2d_8 (MaxPooling2 (None, 75, 75, 64)        0         \n_________________________________________________________________\nbatch_normalization_8 (Batch (None, 75, 75, 64)        300       \n_________________________________________________________________\nconv2d_10 (Conv2D)           (None, 75, 75, 32)        18464     \n_________________________________________________________________\ndropout_6 (Dropout)          (None, 75, 75, 32)        0         \n_________________________________________________________________\nbatch_normalization_9 (Batch (None, 75, 75, 32)        300       \n_________________________________________________________________\nmax_pooling2d_9 (MaxPooling2 (None, 38, 38, 32)        0         \n_________________________________________________________________\nconv2d_11 (Conv2D)           (None, 38, 38, 128)       36992     \n_________________________________________________________________\nbatch_normalization_10 (Batc (None, 38, 38, 128)       152       \n_________________________________________________________________\nmax_pooling2d_10 (MaxPooling (None, 19, 19, 128)       0         \n_________________________________________________________________\nconv2d_12 (Conv2D)           (None, 19, 19, 64)        73792     \n_________________________________________________________________\ndropout_7 (Dropout)          (None, 19, 19, 64)        0         \n_________________________________________________________________\nbatch_normalization_11 (Batc (None, 19, 19, 64)        76        \n_________________________________________________________________\nmax_pooling2d_11 (MaxPooling (None, 10, 10, 64)        0         \n_________________________________________________________________\nconv2d_13 (Conv2D)           (None, 10, 10, 256)       147712    \n_________________________________________________________________\ndropout_8 (Dropout)          (None, 10, 10, 256)       0         \n_________________________________________________________________\nbatch_normalization_12 (Batc (None, 10, 10, 256)       40        \n_________________________________________________________________\nmax_pooling2d_12 (MaxPooling (None, 5, 5, 256)         0         \n_________________________________________________________________\nflatten_2 (Flatten)          (None, 6400)              0         \n_________________________________________________________________\ndense_4 (Dense)              (None, 128)               819328    \n_________________________________________________________________\ndropout_9 (Dropout)          (None, 128)               0         \n_________________________________________________________________\ndense_5 (Dense)              (None, 1)                 129       \n=================================================================\nTotal params: 1,097,925\nTrainable params: 1,097,491\nNon-trainable params: 434\n_________________________________________________________________\n"
          ]
        }
      ]
    },
    {
      "cell_type": "code",
      "metadata": {
        "id": "bbGKCxlAsnrm"
      },
      "source": [
        "import cv2\n",
        "IMG_SIZE = 150 \n",
        "def prepare(filepath):\n",
        "    img_array = cv2.imread(filepath, cv2.IMREAD_GRAYSCALE)\n",
        "    new_array = cv2.resize(img_array, (IMG_SIZE, IMG_SIZE))\n",
        "    return new_array.reshape(-1, IMG_SIZE, IMG_SIZE, 1)"
      ],
      "execution_count": 18,
      "outputs": []
    },
    {
      "cell_type": "code",
      "metadata": {
        "id": "QcZncjl8u7GJ"
      },
      "source": [
        "def predict(filepath,model):  \n",
        "  labels = [\"NORMAL\", \"PNEUMONIA\"]\n",
        "  prediction = model.predict([prepare(filepath)])\n",
        "  return (labels[int(prediction[0])])\n",
        "\n"
      ],
      "execution_count": 19,
      "outputs": []
    },
    {
      "cell_type": "code",
      "metadata": {
        "colab": {
          "base_uri": "https://localhost:8080/",
          "height": 35
        },
        "id": "8FmM93TivJ5H",
        "outputId": "40ab2406-7875-4889-b8aa-15cce5837230"
      },
      "source": [
        "predict('person1000_bacteria_2931.jpeg',loaded_model)"
      ],
      "execution_count": 20,
      "outputs": [
        {
          "output_type": "execute_result",
          "data": {
            "text/plain": [
              "'PNEUMONIA'"
            ]
          },
          "metadata": {},
          "execution_count": 20
        }
      ]
    },
    {
      "cell_type": "code",
      "execution_count": 21,
      "metadata": {},
      "outputs": [
        {
          "output_type": "execute_result",
          "data": {
            "text/plain": [
              "[]"
            ]
          },
          "metadata": {},
          "execution_count": 21
        }
      ],
      "source": [
        "import tensorflow as tf\n",
        "tf.config.list_physical_devices(\"GPU\")"
      ]
    },
    {
      "cell_type": "code",
      "execution_count": null,
      "metadata": {},
      "outputs": [],
      "source": []
    }
  ]
}